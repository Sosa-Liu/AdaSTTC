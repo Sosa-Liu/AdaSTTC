{
 "cells": [
  {
   "attachments": {},
   "cell_type": "markdown",
   "metadata": {},
   "source": [
    "This is a tool box for **`Adaptive Spatial-Temporal Traffic Prediction(AdaSTTP)`** applications  which aims to alleviate `Spatial-Temporal Dynamic Shift (STDS) `problems existing in both intro-domain and inter-domain. \n",
    "\n",
    "-  ``intro-domain STDS`` include temporal periodicity dynamic shift and spatial correlation dynamic shift;\n",
    "-  ``inter-domain STDS`` predominantly refers to the data distribution shift across varies tasks or regions."
   ]
  },
  {
   "attachments": {},
   "cell_type": "markdown",
   "metadata": {},
   "source": []
  }
 ],
 "metadata": {
  "kernelspec": {
   "display_name": "mytorch",
   "language": "python",
   "name": "python3"
  },
  "language_info": {
   "codemirror_mode": {
    "name": "ipython",
    "version": 3
   },
   "file_extension": ".py",
   "mimetype": "text/x-python",
   "name": "python",
   "nbconvert_exporter": "python",
   "pygments_lexer": "ipython3",
   "version": "3.8.16"
  },
  "orig_nbformat": 4,
  "vscode": {
   "interpreter": {
    "hash": "2bec43705e4a1f288870969a8fed2f5a664da2357177415dfdca1145810d381e"
   }
  }
 },
 "nbformat": 4,
 "nbformat_minor": 2
}
